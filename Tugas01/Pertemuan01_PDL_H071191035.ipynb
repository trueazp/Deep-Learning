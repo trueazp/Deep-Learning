{
  "nbformat": 4,
  "nbformat_minor": 0,
  "metadata": {
    "colab": {
      "name": "Pertemuan01-PDL-H071191035.ipynb",
      "provenance": [],
      "collapsed_sections": [],
      "toc_visible": true
    },
    "kernelspec": {
      "name": "python3",
      "display_name": "Python 3"
    },
    "language_info": {
      "name": "python"
    },
    "accelerator": "GPU"
  },
  "cells": [
    {
      "cell_type": "markdown",
      "metadata": {
        "id": "QLhmp35geRVj"
      },
      "source": [
        "<H1><b>Pertemuan 1 - Python Basics</b></H1>\n",
        "\n",
        "<H3>Nama : Akmal Zuhdy Prasetya</H3>\n",
        "<H3>NIM  : H071191035</H3>"
      ]
    },
    {
      "cell_type": "markdown",
      "metadata": {
        "id": "_vgR3IR8eRVp"
      },
      "source": [
        "# 1. Fundamentals"
      ]
    },
    {
      "cell_type": "markdown",
      "metadata": {
        "id": "-ItmmWlmeRVs"
      },
      "source": [
        "Python is a programming language that has been under development for over 25 years.\n",
        "\n",
        "**Python Reference**:\n",
        "\n",
        "* https://docs.python.org/3.5/reference/\n"
      ]
    },
    {
      "cell_type": "markdown",
      "metadata": {
        "id": "ej_Kzv0yeRVu"
      },
      "source": [
        "## 1.1 Statements"
      ]
    },
    {
      "cell_type": "markdown",
      "metadata": {
        "id": "SegSSyx1eRVw"
      },
      "source": [
        "Python is an [imperative language](https://en.wikipedia.org/wiki/Imperative_programming) based on [statements](https://en.wikipedia.org/wiki/Statement_(computer_science&#41;). That is, programs in Python consists of lines composed of statements. A statement can be:\n",
        "\n",
        "* a single expression\n",
        "* an assignment\n",
        "* a function call\n",
        "* a function definition\n",
        "* a statement; statement"
      ]
    },
    {
      "cell_type": "markdown",
      "metadata": {
        "id": "WYrdeRXEeRVx"
      },
      "source": [
        "### 1.1.1 Expressions"
      ]
    },
    {
      "cell_type": "markdown",
      "metadata": {
        "id": "Zoo3U5DdeRVy"
      },
      "source": [
        "* Numbers\n",
        "  * integers\n",
        "  * floating-point\n",
        "  * complex numbers\n",
        "* strings\n",
        "* boolean values\n",
        "* lists and dicts"
      ]
    },
    {
      "cell_type": "markdown",
      "metadata": {
        "id": "QYqaPhvPeRVz"
      },
      "source": [
        "#### 1.1.1.1 Numbers"
      ]
    },
    {
      "cell_type": "code",
      "execution_count": 2,
      "metadata": {
        "id": "gV3y_3EDeRV0",
        "colab": {
          "base_uri": "https://localhost:8080/"
        },
        "outputId": "198b475b-35c2-447a-a40f-de9b6fa30a70"
      },
      "outputs": [
        {
          "output_type": "execute_result",
          "data": {
            "text/plain": [
              "1"
            ]
          },
          "metadata": {},
          "execution_count": 2
        }
      ],
      "source": [
        "1"
      ]
    },
    {
      "cell_type": "code",
      "execution_count": 3,
      "metadata": {
        "collapsed": true,
        "id": "tgh9b-QteRV2",
        "colab": {
          "base_uri": "https://localhost:8080/"
        },
        "outputId": "2e41bff5-52ae-437e-c413-682e5fdf035b"
      },
      "outputs": [
        {
          "output_type": "execute_result",
          "data": {
            "text/plain": [
              "2"
            ]
          },
          "metadata": {},
          "execution_count": 3
        }
      ],
      "source": [
        "2"
      ]
    },
    {
      "cell_type": "code",
      "execution_count": 4,
      "metadata": {
        "id": "fuUEymodeRV5",
        "colab": {
          "base_uri": "https://localhost:8080/"
        },
        "outputId": "b482cfef-a01b-4713-81de-52d52901914c"
      },
      "outputs": [
        {
          "output_type": "execute_result",
          "data": {
            "text/plain": [
              "-3"
            ]
          },
          "metadata": {},
          "execution_count": 4
        }
      ],
      "source": [
        "-3"
      ]
    },
    {
      "cell_type": "code",
      "execution_count": 5,
      "metadata": {
        "id": "DfwP6q1ceRV7",
        "colab": {
          "base_uri": "https://localhost:8080/"
        },
        "outputId": "c00d5de5-3ea6-47a5-d964-f13bd00f6865"
      },
      "outputs": [
        {
          "output_type": "execute_result",
          "data": {
            "text/plain": [
              "2"
            ]
          },
          "metadata": {},
          "execution_count": 5
        }
      ],
      "source": [
        "1\n",
        "2"
      ]
    },
    {
      "cell_type": "code",
      "execution_count": 6,
      "metadata": {
        "id": "5pLx5RxEeRV9",
        "colab": {
          "base_uri": "https://localhost:8080/"
        },
        "outputId": "7dc9c12e-21d6-47a6-f1df-2b73e2ba1033"
      },
      "outputs": [
        {
          "output_type": "execute_result",
          "data": {
            "text/plain": [
              "3.14"
            ]
          },
          "metadata": {},
          "execution_count": 6
        }
      ],
      "source": [
        "3.14"
      ]
    },
    {
      "cell_type": "markdown",
      "metadata": {
        "id": "wbgMl1kceRV-"
      },
      "source": [
        "#### 1.1.1.2 Strings"
      ]
    },
    {
      "cell_type": "code",
      "execution_count": 7,
      "metadata": {
        "id": "POQHboFOeRV-",
        "colab": {
          "base_uri": "https://localhost:8080/",
          "height": 36
        },
        "outputId": "53d21a91-e64f-4f12-9256-0a241393ef2b"
      },
      "outputs": [
        {
          "output_type": "execute_result",
          "data": {
            "text/plain": [
              "'apple'"
            ],
            "application/vnd.google.colaboratory.intrinsic+json": {
              "type": "string"
            }
          },
          "metadata": {},
          "execution_count": 7
        }
      ],
      "source": [
        "'apple'"
      ]
    },
    {
      "cell_type": "code",
      "execution_count": 8,
      "metadata": {
        "id": "S-_HOY3leRV_",
        "colab": {
          "base_uri": "https://localhost:8080/",
          "height": 36
        },
        "outputId": "08fcaa90-d1c6-48a4-bc8f-29f309f8c541"
      },
      "outputs": [
        {
          "output_type": "execute_result",
          "data": {
            "text/plain": [
              "'apple'"
            ],
            "application/vnd.google.colaboratory.intrinsic+json": {
              "type": "string"
            }
          },
          "metadata": {},
          "execution_count": 8
        }
      ],
      "source": [
        "\"apple\""
      ]
    },
    {
      "cell_type": "markdown",
      "metadata": {
        "id": "k9YsrwuCeRWA"
      },
      "source": [
        "Notice that the Out might not match exactly the In. In the above example, we used double-quotes but the representation of the string used single-quotes. Python will default to showing representations of values using single-quotes, if it can."
      ]
    },
    {
      "cell_type": "markdown",
      "metadata": {
        "id": "tfDu0LyseRWB"
      },
      "source": [
        "#### 1.1.1.3 Boolean Values"
      ]
    },
    {
      "cell_type": "code",
      "execution_count": 9,
      "metadata": {
        "id": "pz0oWm2UeRWB",
        "colab": {
          "base_uri": "https://localhost:8080/"
        },
        "outputId": "36f2c5d1-4cdc-4d59-d08e-b7b0bf207e23"
      },
      "outputs": [
        {
          "output_type": "execute_result",
          "data": {
            "text/plain": [
              "True"
            ]
          },
          "metadata": {},
          "execution_count": 9
        }
      ],
      "source": [
        "True"
      ]
    },
    {
      "cell_type": "code",
      "execution_count": 10,
      "metadata": {
        "id": "BPsPpvZFeRWC",
        "colab": {
          "base_uri": "https://localhost:8080/"
        },
        "outputId": "7e26ed95-262a-4bc5-ad61-163053cb8c44"
      },
      "outputs": [
        {
          "output_type": "execute_result",
          "data": {
            "text/plain": [
              "False"
            ]
          },
          "metadata": {},
          "execution_count": 10
        }
      ],
      "source": [
        "False"
      ]
    },
    {
      "cell_type": "markdown",
      "metadata": {
        "id": "NrTdAL20eRWD"
      },
      "source": [
        "#### 1.1.1.4 Lists and Dicts"
      ]
    },
    {
      "cell_type": "markdown",
      "metadata": {
        "id": "J0C-FS0qeRWD"
      },
      "source": [
        "Python has three very useful data structures built into the language:\n",
        "\n",
        "* dictionaries (hash tables): {}\n",
        "* lists: []\n",
        "* tuples: (item, ...)\n",
        "\n",
        "List is a mutable list of items. Tuple is a read-only data structure (immutable)."
      ]
    },
    {
      "cell_type": "code",
      "execution_count": 11,
      "metadata": {
        "id": "Ic76GZTfeRWD",
        "colab": {
          "base_uri": "https://localhost:8080/"
        },
        "outputId": "c5744066-9ac7-4fff-cd74-f2cb1b2f1bcc"
      },
      "outputs": [
        {
          "output_type": "execute_result",
          "data": {
            "text/plain": [
              "[1, 2, 3]"
            ]
          },
          "metadata": {},
          "execution_count": 11
        }
      ],
      "source": [
        "[1, 2, 3]"
      ]
    },
    {
      "cell_type": "code",
      "execution_count": 12,
      "metadata": {
        "id": "9--33jJceRWE",
        "colab": {
          "base_uri": "https://localhost:8080/"
        },
        "outputId": "21aa0ccb-3170-48c2-bea7-a3ea28bd3606"
      },
      "outputs": [
        {
          "output_type": "execute_result",
          "data": {
            "text/plain": [
              "(1, 2, 3)"
            ]
          },
          "metadata": {},
          "execution_count": 12
        }
      ],
      "source": [
        "(1, 2, 3)"
      ]
    },
    {
      "cell_type": "code",
      "execution_count": 13,
      "metadata": {
        "id": "rfRU0MkheRWF",
        "colab": {
          "base_uri": "https://localhost:8080/"
        },
        "outputId": "b350f60b-8bf2-4334-ea6a-d00307bb016c"
      },
      "outputs": [
        {
          "output_type": "execute_result",
          "data": {
            "text/plain": [
              "(1, 2, 3)"
            ]
          },
          "metadata": {},
          "execution_count": 13
        }
      ],
      "source": [
        "1, 2, 3"
      ]
    },
    {
      "cell_type": "code",
      "execution_count": 14,
      "metadata": {
        "collapsed": true,
        "id": "5d6W2qbfeRWF",
        "colab": {
          "base_uri": "https://localhost:8080/"
        },
        "outputId": "e21257d9-0ed6-4046-fe2e-813ce51b867c"
      },
      "outputs": [
        {
          "output_type": "execute_result",
          "data": {
            "text/plain": [
              "{'apple': 'a fruit', 'banana': 'an herb', 'monkey': 'a mammal'}"
            ]
          },
          "metadata": {},
          "execution_count": 14
        }
      ],
      "source": [
        "{\"apple\": \"a fruit\", \"banana\": \"an herb\", \"monkey\": \"a mammal\"}"
      ]
    },
    {
      "cell_type": "code",
      "execution_count": 15,
      "metadata": {
        "id": "h0EVNrBseRWG",
        "colab": {
          "base_uri": "https://localhost:8080/",
          "height": 36
        },
        "outputId": "e6b26ae8-0b99-4eb6-9c69-08429e0028df"
      },
      "outputs": [
        {
          "output_type": "execute_result",
          "data": {
            "text/plain": [
              "'a fruit'"
            ],
            "application/vnd.google.colaboratory.intrinsic+json": {
              "type": "string"
            }
          },
          "metadata": {},
          "execution_count": 15
        }
      ],
      "source": [
        "{\"apple\": \"a fruit\", \"banana\": \"an herb\", \"monkey\": \"a mammal\"}[\"apple\"]"
      ]
    },
    {
      "cell_type": "markdown",
      "metadata": {
        "id": "A2trvyEneRWH"
      },
      "source": [
        "### 1.1.2 Function Calls"
      ]
    },
    {
      "cell_type": "markdown",
      "metadata": {
        "id": "3RaApCYKeRWH"
      },
      "source": [
        "There are two ways to call functions in Python:\n",
        "\n",
        "1. by pre-defined infix operator name\n",
        "2. by function name, followed by parentheses\n",
        "\n",
        "Infix operator name:"
      ]
    },
    {
      "cell_type": "code",
      "execution_count": 16,
      "metadata": {
        "id": "WLSUO0M3eRWI",
        "colab": {
          "base_uri": "https://localhost:8080/"
        },
        "outputId": "15a1796d-5041-4b36-fef9-db73af57f3f1"
      },
      "outputs": [
        {
          "output_type": "execute_result",
          "data": {
            "text/plain": [
              "3"
            ]
          },
          "metadata": {},
          "execution_count": 16
        }
      ],
      "source": [
        "1 + 2"
      ]
    },
    {
      "cell_type": "code",
      "execution_count": 17,
      "metadata": {
        "id": "W1uYUar2eRWJ",
        "colab": {
          "base_uri": "https://localhost:8080/"
        },
        "outputId": "f4e58cbe-09d0-4ad3-fab6-81565c45f138"
      },
      "outputs": [
        {
          "output_type": "execute_result",
          "data": {
            "text/plain": [
              "1"
            ]
          },
          "metadata": {},
          "execution_count": 17
        }
      ],
      "source": [
        "abs(-1)"
      ]
    },
    {
      "cell_type": "code",
      "execution_count": 18,
      "metadata": {
        "collapsed": true,
        "id": "n5YwMLcKeRWJ"
      },
      "outputs": [],
      "source": [
        "import operator"
      ]
    },
    {
      "cell_type": "code",
      "execution_count": 19,
      "metadata": {
        "id": "AXByMd7leRWK",
        "colab": {
          "base_uri": "https://localhost:8080/"
        },
        "outputId": "4a646535-e399-494e-8d9a-b30ab7f58468"
      },
      "outputs": [
        {
          "output_type": "execute_result",
          "data": {
            "text/plain": [
              "3"
            ]
          },
          "metadata": {},
          "execution_count": 19
        }
      ],
      "source": [
        "operator.add(1, 2)"
      ]
    },
    {
      "cell_type": "markdown",
      "metadata": {
        "id": "2o4tpMiUeRWL"
      },
      "source": [
        "#### 1.1.2.1 Print"
      ]
    },
    {
      "cell_type": "markdown",
      "metadata": {
        "id": "4ta2IxaweRWN"
      },
      "source": [
        "Evaluating and display result as an Out, versus evaluating and printing result (side-effect)."
      ]
    },
    {
      "cell_type": "code",
      "execution_count": 20,
      "metadata": {
        "id": "tViscQRaeRWO",
        "colab": {
          "base_uri": "https://localhost:8080/"
        },
        "outputId": "427584e2-8a4e-4c56-c314-6a791645aca4"
      },
      "outputs": [
        {
          "output_type": "stream",
          "name": "stdout",
          "text": [
            "1\n"
          ]
        }
      ],
      "source": [
        "print(1)"
      ]
    },
    {
      "cell_type": "markdown",
      "metadata": {
        "id": "viy9vAudeRWO"
      },
      "source": [
        "### 1.1.3 Special Values"
      ]
    },
    {
      "cell_type": "code",
      "execution_count": 21,
      "metadata": {
        "collapsed": true,
        "id": "Dwl4n5JOeRWP"
      },
      "outputs": [],
      "source": [
        "None"
      ]
    },
    {
      "cell_type": "markdown",
      "metadata": {
        "id": "nrjdccgEeRWP"
      },
      "source": [
        "### 1.1.4 Defining Functions"
      ]
    },
    {
      "cell_type": "code",
      "execution_count": 22,
      "metadata": {
        "collapsed": true,
        "id": "IjyLxgZNeRWR"
      },
      "outputs": [],
      "source": [
        "def plus(a, b):\n",
        "    return a + b"
      ]
    },
    {
      "cell_type": "code",
      "execution_count": 23,
      "metadata": {
        "id": "jWLCxPgheRWS",
        "colab": {
          "base_uri": "https://localhost:8080/"
        },
        "outputId": "55085c96-f029-4d3e-f2fe-9d916a0b1f63"
      },
      "outputs": [
        {
          "output_type": "execute_result",
          "data": {
            "text/plain": [
              "7"
            ]
          },
          "metadata": {},
          "execution_count": 23
        }
      ],
      "source": [
        "plus(3, 4)"
      ]
    },
    {
      "cell_type": "code",
      "execution_count": 24,
      "metadata": {
        "collapsed": true,
        "id": "upwtxeRzeRWS"
      },
      "outputs": [],
      "source": [
        "def plus(a, b):\n",
        "    a + b"
      ]
    },
    {
      "cell_type": "code",
      "execution_count": 25,
      "metadata": {
        "collapsed": true,
        "id": "37fCzfwFeRWT"
      },
      "outputs": [],
      "source": [
        "plus(3, 4)"
      ]
    },
    {
      "cell_type": "markdown",
      "metadata": {
        "id": "x1qqumfgeRWT"
      },
      "source": [
        "What happened? All functions return *something*, even if you don't specify it. If you don't specify a return value, then it will default to returning `None`."
      ]
    },
    {
      "cell_type": "code",
      "execution_count": 26,
      "metadata": {
        "id": "i5H_j_qHeRWT",
        "colab": {
          "base_uri": "https://localhost:8080/",
          "height": 171
        },
        "outputId": "a6e61031-ca7c-4b44-b0f7-10f24e703d94"
      },
      "outputs": [
        {
          "output_type": "error",
          "ename": "TypeError",
          "evalue": "ignored",
          "traceback": [
            "\u001b[0;31m---------------------------------------------------------------------------\u001b[0m",
            "\u001b[0;31mTypeError\u001b[0m                                 Traceback (most recent call last)",
            "\u001b[0;32m<ipython-input-26-42f7d05b4f13>\u001b[0m in \u001b[0;36m<module>\u001b[0;34m()\u001b[0m\n\u001b[0;32m----> 1\u001b[0;31m \u001b[0;34m\"a\"\u001b[0m \u001b[0;34m+\u001b[0m \u001b[0;36m1\u001b[0m\u001b[0;34m\u001b[0m\u001b[0;34m\u001b[0m\u001b[0m\n\u001b[0m",
            "\u001b[0;31mTypeError\u001b[0m: can only concatenate str (not \"int\") to str"
          ]
        }
      ],
      "source": [
        "\"a\" + 1"
      ]
    },
    {
      "cell_type": "markdown",
      "metadata": {
        "id": "Ave1e7UWeRWU"
      },
      "source": [
        "<div style=\"background-color: lightgrey\">\n",
        "<h2>Sidebar 2-1: How to Read Python Error Messages</h2>\n",
        "\n",
        "<p>\n",
        "Python error messages \n",
        "<p>\n",
        "<tt>TypeError: Can't convert 'int' object to str implicitly</tt>\n",
        "</p>\n",
        "\n",
        "<p>Above the error message is the \"traceback\" also called the \"call stack\". This is a representation of the sequence of procedure calls that lead to the error. If the procedure call originated from code from a file, the filename would be listed after the word \"File\" on each line. If the procedure call originated from a notebook cell, then the word \"ipython-input-#-HEX\".\n",
        "</p>\n",
        "</div>"
      ]
    },
    {
      "cell_type": "markdown",
      "metadata": {
        "id": "RN2UjKRveRWU"
      },
      "source": [
        "## 1.2 Equality"
      ]
    },
    {
      "cell_type": "markdown",
      "metadata": {
        "id": "gdIKj7NseRWV"
      },
      "source": [
        "### 1.2.1 =="
      ]
    },
    {
      "cell_type": "code",
      "execution_count": 27,
      "metadata": {
        "id": "dxUXH5queRWW",
        "colab": {
          "base_uri": "https://localhost:8080/"
        },
        "outputId": "d10404c4-75f1-41b2-a6b3-89d997ddeb10"
      },
      "outputs": [
        {
          "output_type": "execute_result",
          "data": {
            "text/plain": [
              "True"
            ]
          },
          "metadata": {},
          "execution_count": 27
        }
      ],
      "source": [
        "1 == 1"
      ]
    },
    {
      "cell_type": "markdown",
      "metadata": {
        "id": "w-fWNqmdeRWY"
      },
      "source": [
        "### 1.2.2 is"
      ]
    },
    {
      "cell_type": "code",
      "execution_count": 28,
      "metadata": {
        "id": "yXiC2oREeRWY",
        "colab": {
          "base_uri": "https://localhost:8080/"
        },
        "outputId": "30978897-6b54-4478-dee5-4cb297ab20ff"
      },
      "outputs": [
        {
          "output_type": "execute_result",
          "data": {
            "text/plain": [
              "False"
            ]
          },
          "metadata": {},
          "execution_count": 28
        }
      ],
      "source": [
        "[] is []"
      ]
    },
    {
      "cell_type": "code",
      "execution_count": 29,
      "metadata": {
        "id": "ikDEhaS8eRWZ",
        "colab": {
          "base_uri": "https://localhost:8080/"
        },
        "outputId": "14ebfda7-5bdc-4c1d-abf3-f57560bc3332"
      },
      "outputs": [
        {
          "output_type": "execute_result",
          "data": {
            "text/plain": [
              "False"
            ]
          },
          "metadata": {},
          "execution_count": 29
        }
      ],
      "source": [
        "list() is list()"
      ]
    },
    {
      "cell_type": "code",
      "execution_count": 30,
      "metadata": {
        "id": "Jtcl4yRHeRWZ",
        "colab": {
          "base_uri": "https://localhost:8080/"
        },
        "outputId": "9bc92ada-bf95-488a-9008-c09552753840"
      },
      "outputs": [
        {
          "output_type": "execute_result",
          "data": {
            "text/plain": [
              "True"
            ]
          },
          "metadata": {},
          "execution_count": 30
        }
      ],
      "source": [
        "tuple() is tuple()"
      ]
    },
    {
      "cell_type": "code",
      "execution_count": 31,
      "metadata": {
        "id": "0gMOoyaaeRWa",
        "colab": {
          "base_uri": "https://localhost:8080/"
        },
        "outputId": "cda4ead4-fd56-4466-cfdb-e7d0caefd015"
      },
      "outputs": [
        {
          "output_type": "execute_result",
          "data": {
            "text/plain": [
              "True"
            ]
          },
          "metadata": {},
          "execution_count": 31
        }
      ],
      "source": [
        "57663463467 is 57663463467"
      ]
    },
    {
      "cell_type": "markdown",
      "metadata": {
        "id": "jyivbkMOeRWc"
      },
      "source": [
        "# 2. Advanced Topics"
      ]
    },
    {
      "cell_type": "markdown",
      "metadata": {
        "id": "9jwNMvJOeRWd"
      },
      "source": [
        "The Zen of Python:"
      ]
    },
    {
      "cell_type": "code",
      "execution_count": 34,
      "metadata": {
        "id": "1IDKdGmeeRWd"
      },
      "outputs": [],
      "source": [
        "import this"
      ]
    },
    {
      "cell_type": "markdown",
      "metadata": {
        "id": "iDnmI5HYeRWg"
      },
      "source": [
        "## 2.1 Python's Growth"
      ]
    },
    {
      "cell_type": "markdown",
      "metadata": {
        "id": "Xr_PamPHeRWh"
      },
      "source": [
        "* http://web.archive.org/web/20031002184114/www.amk.ca/python/writing/warts.html\n",
        "* \n",
        "* https://www.python.org/dev/peps/pep-3099/"
      ]
    },
    {
      "cell_type": "markdown",
      "metadata": {
        "id": "UVp_cmBbeRWh"
      },
      "source": [
        "## 2.2 Scope of variables"
      ]
    },
    {
      "cell_type": "markdown",
      "metadata": {
        "id": "oswoY0vPeRWi"
      },
      "source": [
        "Is not always clear:"
      ]
    },
    {
      "cell_type": "code",
      "execution_count": 35,
      "metadata": {
        "id": "zjhTN0odeRWi"
      },
      "outputs": [],
      "source": [
        "y = 0\n",
        "for x in range(10):\n",
        "    y = x"
      ]
    },
    {
      "cell_type": "code",
      "execution_count": 36,
      "metadata": {
        "id": "R7t-fByieRWj",
        "colab": {
          "base_uri": "https://localhost:8080/"
        },
        "outputId": "50123a2c-dff1-4d48-90f3-cacd6acd3566"
      },
      "outputs": [
        {
          "output_type": "execute_result",
          "data": {
            "text/plain": [
              "9"
            ]
          },
          "metadata": {},
          "execution_count": 36
        }
      ],
      "source": [
        "x"
      ]
    },
    {
      "cell_type": "code",
      "execution_count": 37,
      "metadata": {
        "id": "RMOd2zIAeRWk",
        "colab": {
          "base_uri": "https://localhost:8080/"
        },
        "outputId": "9897d1bc-df63-428b-ccb4-5d7d3bcd6460"
      },
      "outputs": [
        {
          "output_type": "execute_result",
          "data": {
            "text/plain": [
              "[10, 11, 12, 13, 14, 15, 16, 17, 18, 19]"
            ]
          },
          "metadata": {},
          "execution_count": 37
        }
      ],
      "source": [
        "[x for x in range(10, 20)]"
      ]
    },
    {
      "cell_type": "code",
      "execution_count": 38,
      "metadata": {
        "id": "4dSB8bQPeRWk",
        "colab": {
          "base_uri": "https://localhost:8080/"
        },
        "outputId": "3fcb9e2a-493a-445e-e16e-7bb113d82f72"
      },
      "outputs": [
        {
          "output_type": "execute_result",
          "data": {
            "text/plain": [
              "9"
            ]
          },
          "metadata": {},
          "execution_count": 38
        }
      ],
      "source": [
        "x"
      ]
    },
    {
      "cell_type": "markdown",
      "metadata": {
        "id": "GxzoxalCeRWl"
      },
      "source": [
        "## 2.3 Scope"
      ]
    },
    {
      "cell_type": "markdown",
      "metadata": {
        "id": "nnvziwLCeRWm"
      },
      "source": [
        "Python follows the LEGB Rule (after https://www.amazon.com/dp/0596513984/):\n",
        "\n",
        "* L, Local: Names assigned in any way within a function (def or lambda)), and not declared global in that function.\n",
        "* E, Enclosing function locals: Name in the local scope of any and all enclosing functions (def or lambda), from inner to outer.\n",
        "* G, Global (module): Names assigned at the top-level of a module file, or declared global in a def within the file.\n",
        "* B, Built-in (Python): Names preassigned in the built-in names module : open, range, SyntaxError,..."
      ]
    },
    {
      "cell_type": "code",
      "execution_count": 39,
      "metadata": {
        "id": "Q-2OBATjeRWm"
      },
      "outputs": [],
      "source": [
        "x = 3\n",
        "def foo():\n",
        "    x=4\n",
        "    def bar():\n",
        "        print(x)  # Accesses x from foo's scope\n",
        "    bar()  # Prints 4\n",
        "    x=5\n",
        "    bar()  # Prints 5"
      ]
    },
    {
      "cell_type": "code",
      "execution_count": 40,
      "metadata": {
        "id": "zkDNcwQYeRWn",
        "colab": {
          "base_uri": "https://localhost:8080/"
        },
        "outputId": "c07ef937-ea3c-4f66-f114-919cb08eb0ef"
      },
      "outputs": [
        {
          "output_type": "stream",
          "name": "stdout",
          "text": [
            "4\n",
            "5\n"
          ]
        }
      ],
      "source": [
        "foo()"
      ]
    },
    {
      "cell_type": "markdown",
      "metadata": {
        "id": "-2OdlXA5eRWp"
      },
      "source": [
        "See [scope_resolution_legb_rule.ipynb](scope_resolution_legb_rule.ipynb) for some additional readings on scope."
      ]
    },
    {
      "cell_type": "markdown",
      "metadata": {
        "id": "v2FmaMKTeRWp"
      },
      "source": [
        "## 2.4 Generators"
      ]
    },
    {
      "cell_type": "code",
      "execution_count": 41,
      "metadata": {
        "collapsed": true,
        "id": "hYCrT4keeRWq"
      },
      "outputs": [],
      "source": [
        "def function():\n",
        "    for i in range(10):\n",
        "        yield i"
      ]
    },
    {
      "cell_type": "code",
      "execution_count": 42,
      "metadata": {
        "id": "Akq8zTSZeRWr",
        "colab": {
          "base_uri": "https://localhost:8080/"
        },
        "outputId": "ada30522-e33a-4d89-b63d-d5414eed2556"
      },
      "outputs": [
        {
          "output_type": "execute_result",
          "data": {
            "text/plain": [
              "<generator object function at 0x7fa09fd3b6d0>"
            ]
          },
          "metadata": {},
          "execution_count": 42
        }
      ],
      "source": [
        "function()"
      ]
    },
    {
      "cell_type": "code",
      "execution_count": 43,
      "metadata": {
        "id": "9AjgiO81eRWr",
        "colab": {
          "base_uri": "https://localhost:8080/"
        },
        "outputId": "69c944e3-7079-446c-c2eb-5c549fba4c55"
      },
      "outputs": [
        {
          "output_type": "stream",
          "name": "stdout",
          "text": [
            "0\n",
            "1\n",
            "2\n",
            "3\n",
            "4\n",
            "5\n",
            "6\n",
            "7\n",
            "8\n",
            "9\n"
          ]
        }
      ],
      "source": [
        "for y in function():\n",
        "    print(y)"
      ]
    },
    {
      "cell_type": "markdown",
      "metadata": {
        "id": "JmWc8g6SeRWs"
      },
      "source": [
        "## 2.5 Default arguments"
      ]
    },
    {
      "cell_type": "code",
      "execution_count": 44,
      "metadata": {
        "collapsed": true,
        "id": "gJoM0wkreRWt"
      },
      "outputs": [],
      "source": [
        "def do_something(a, b, c):\n",
        "    return (a, b, c)"
      ]
    },
    {
      "cell_type": "code",
      "execution_count": 45,
      "metadata": {
        "id": "-LN0EQoIeRWt",
        "colab": {
          "base_uri": "https://localhost:8080/"
        },
        "outputId": "bfbe5432-5cbb-4de9-d023-09563fa44e52"
      },
      "outputs": [
        {
          "output_type": "execute_result",
          "data": {
            "text/plain": [
              "(1, 2, 3)"
            ]
          },
          "metadata": {},
          "execution_count": 45
        }
      ],
      "source": [
        "do_something(1, 2, 3)"
      ]
    },
    {
      "cell_type": "code",
      "execution_count": 46,
      "metadata": {
        "collapsed": true,
        "id": "ylO_RJKfeRWu"
      },
      "outputs": [],
      "source": [
        "def do_something_else(a=1, b=2, c=3):\n",
        "    return (a, b, c)"
      ]
    },
    {
      "cell_type": "code",
      "execution_count": 47,
      "metadata": {
        "id": "eVIJ9AEteRWu",
        "colab": {
          "base_uri": "https://localhost:8080/"
        },
        "outputId": "e3d01b56-aa00-49fe-e186-70d6e293a31a"
      },
      "outputs": [
        {
          "output_type": "execute_result",
          "data": {
            "text/plain": [
              "(1, 2, 3)"
            ]
          },
          "metadata": {},
          "execution_count": 47
        }
      ],
      "source": [
        "do_something_else()"
      ]
    },
    {
      "cell_type": "code",
      "execution_count": 48,
      "metadata": {
        "collapsed": true,
        "id": "SGOCLqEmeRWu"
      },
      "outputs": [],
      "source": [
        "def some_function(start=[]):\n",
        "    start.append(1)\n",
        "    return start"
      ]
    },
    {
      "cell_type": "code",
      "execution_count": 49,
      "metadata": {
        "collapsed": true,
        "id": "6Sr1IYLEeRWv"
      },
      "outputs": [],
      "source": [
        "result = some_function()"
      ]
    },
    {
      "cell_type": "code",
      "execution_count": 50,
      "metadata": {
        "id": "kfsBvWMXeRWv",
        "colab": {
          "base_uri": "https://localhost:8080/"
        },
        "outputId": "9b7ac927-97f2-4049-f3a5-ab6e1abd634d"
      },
      "outputs": [
        {
          "output_type": "execute_result",
          "data": {
            "text/plain": [
              "[1]"
            ]
          },
          "metadata": {},
          "execution_count": 50
        }
      ],
      "source": [
        "result"
      ]
    },
    {
      "cell_type": "code",
      "execution_count": 51,
      "metadata": {
        "collapsed": true,
        "id": "KtDvvA33eRWw"
      },
      "outputs": [],
      "source": [
        "result.append(2)"
      ]
    },
    {
      "cell_type": "code",
      "execution_count": 52,
      "metadata": {
        "collapsed": true,
        "id": "EsKwfE2KeRWy"
      },
      "outputs": [],
      "source": [
        "other_result = some_function()"
      ]
    },
    {
      "cell_type": "code",
      "execution_count": 53,
      "metadata": {
        "id": "DFEuaYMoeRWz",
        "colab": {
          "base_uri": "https://localhost:8080/"
        },
        "outputId": "bd712c34-a134-4a89-c59f-5aadae0baa89"
      },
      "outputs": [
        {
          "output_type": "execute_result",
          "data": {
            "text/plain": [
              "[1, 2, 1]"
            ]
          },
          "metadata": {},
          "execution_count": 53
        }
      ],
      "source": [
        "other_result"
      ]
    },
    {
      "cell_type": "markdown",
      "metadata": {
        "id": "Hh8E83YReRWz"
      },
      "source": [
        "## 3.2 List comprehension"
      ]
    },
    {
      "cell_type": "markdown",
      "metadata": {
        "id": "gK8mQh2ZeRWz"
      },
      "source": [
        "\"List comprehension\" is the idea of writing some code inside of a list that will generate a list.\n",
        "\n",
        "Consider the following:"
      ]
    },
    {
      "cell_type": "code",
      "execution_count": 54,
      "metadata": {
        "id": "NF7BBBIUeRW0",
        "colab": {
          "base_uri": "https://localhost:8080/"
        },
        "outputId": "595ab370-a221-41b2-cf86-29bcb39d6f58"
      },
      "outputs": [
        {
          "output_type": "execute_result",
          "data": {
            "text/plain": [
              "[0, 1, 4, 9, 16, 25, 36, 49, 64, 81]"
            ]
          },
          "metadata": {},
          "execution_count": 54
        }
      ],
      "source": [
        "[x ** 2 for x in range(10)]"
      ]
    },
    {
      "cell_type": "code",
      "execution_count": 55,
      "metadata": {
        "id": "KqyeHIqMeRW1",
        "colab": {
          "base_uri": "https://localhost:8080/"
        },
        "outputId": "c08ca16a-0d35-4df4-8f84-a93687e1b2c2"
      },
      "outputs": [
        {
          "output_type": "execute_result",
          "data": {
            "text/plain": [
              "[0, 1, 4, 9, 16, 25, 36, 49, 64, 81]"
            ]
          },
          "metadata": {},
          "execution_count": 55
        }
      ],
      "source": [
        "temp_list = []\n",
        "for x in range(10):\n",
        "    temp_list.append(x ** 2)\n",
        "temp_list"
      ]
    },
    {
      "cell_type": "markdown",
      "metadata": {
        "id": "VC2JrIHReRW1"
      },
      "source": [
        "But list comprehension is much more concise."
      ]
    },
    {
      "cell_type": "markdown",
      "metadata": {
        "id": "-UjWY0RdeRW1"
      },
      "source": [
        "## 3.3 Plotting"
      ]
    },
    {
      "cell_type": "code",
      "execution_count": 71,
      "metadata": {
        "collapsed": true,
        "id": "LLYaaU7leRW2"
      },
      "outputs": [],
      "source": [
        "import matplotlib.pyplot as plt"
      ]
    },
    {
      "cell_type": "markdown",
      "metadata": {
        "id": "vSkYxzkReRW4"
      },
      "source": [
        "Python has many, many libraries. We will use a few over the course of the semester.\n",
        "\n",
        "To create a simple line plot, just give a list of y-values to the function plt.plot()."
      ]
    },
    {
      "cell_type": "code",
      "execution_count": 72,
      "metadata": {
        "collapsed": true,
        "id": "fEFnugKoeRW6",
        "colab": {
          "base_uri": "https://localhost:8080/",
          "height": 35
        },
        "outputId": "ca5ed773-5902-4645-dedc-e4b7d46df54d"
      },
      "outputs": [
        {
          "output_type": "execute_result",
          "data": {
            "text/plain": [
              "[<matplotlib.lines.Line2D at 0x7fa09f4a5950>]"
            ]
          },
          "metadata": {},
          "execution_count": 72
        }
      ],
      "source": [
        "plt.plot([5, 8, 2, 6, 1, 8, 2, 3, 4, 5, 6])"
      ]
    },
    {
      "cell_type": "markdown",
      "metadata": {
        "id": "85rR0eZheRW7"
      },
      "source": [
        "But you should never create a plot that doesn't have labels on the x and y axises, and should always have a title.\n",
        "\n",
        "http://matplotlib.org/api/pyplot_api.html\n",
        "\n",
        "Another commonly used library (especially with matplotlib is numpy). Often imported as:"
      ]
    },
    {
      "cell_type": "code",
      "source": [
        "import numpy as np"
      ],
      "metadata": {
        "id": "1AdGbE4xgUUL"
      },
      "execution_count": 73,
      "outputs": []
    },
    {
      "cell_type": "code",
      "source": [
        "x = np.arange(0, 5, 0.1)\n",
        "y = np.sin(x)\n",
        "plt.plot(x, y)"
      ],
      "metadata": {
        "colab": {
          "base_uri": "https://localhost:8080/",
          "height": 35
        },
        "id": "wkOUVkIOgZoF",
        "outputId": "22d17e9f-5583-4232-f3d9-68e1bf19d3a4"
      },
      "execution_count": 74,
      "outputs": [
        {
          "output_type": "execute_result",
          "data": {
            "text/plain": [
              "[<matplotlib.lines.Line2D at 0x7fa09f499d10>]"
            ]
          },
          "metadata": {},
          "execution_count": 74
        }
      ]
    },
    {
      "cell_type": "markdown",
      "metadata": {
        "id": "bPEguIT2eRW9"
      },
      "source": [
        "## 2.6 Closures"
      ]
    },
    {
      "cell_type": "markdown",
      "metadata": {
        "id": "Rt-06TbreRW-"
      },
      "source": [
        "Are functions that capture some of the local bindings to variables."
      ]
    },
    {
      "cell_type": "code",
      "execution_count": 75,
      "metadata": {
        "collapsed": true,
        "id": "X4kS7HL4eRW-"
      },
      "outputs": [],
      "source": [
        "def return_a_closure():\n",
        "    dict = {}\n",
        "    def hidden(operator, value, other=None):\n",
        "        if operator == \"add\":\n",
        "            dict[value] = other\n",
        "        else:\n",
        "            return dict[value]\n",
        "    return hidden"
      ]
    },
    {
      "cell_type": "code",
      "execution_count": 76,
      "metadata": {
        "collapsed": true,
        "id": "E-tScOtxeRW-"
      },
      "outputs": [],
      "source": [
        "thing = return_a_closure()"
      ]
    },
    {
      "cell_type": "code",
      "execution_count": 77,
      "metadata": {
        "collapsed": true,
        "id": "pb_Zw6h2eRXB"
      },
      "outputs": [],
      "source": [
        "thing(\"add\", \"apple\", 42)"
      ]
    },
    {
      "cell_type": "code",
      "execution_count": 78,
      "metadata": {
        "id": "AGZLDECoeRXC",
        "colab": {
          "base_uri": "https://localhost:8080/",
          "height": 35
        },
        "outputId": "8238698f-03ff-4174-b3a8-5c5b0ba46fe5"
      },
      "outputs": [
        {
          "output_type": "execute_result",
          "data": {
            "text/plain": [
              "42"
            ]
          },
          "metadata": {},
          "execution_count": 78
        }
      ],
      "source": [
        "thing(\"get\", \"apple\")"
      ]
    },
    {
      "cell_type": "markdown",
      "metadata": {
        "id": "iXH03cjaeRXD"
      },
      "source": [
        "<H1>References</H1>\n",
        "\n",
        "[1] https://en.wikipedia.org/wiki/History_of_Python"
      ]
    }
  ]
}